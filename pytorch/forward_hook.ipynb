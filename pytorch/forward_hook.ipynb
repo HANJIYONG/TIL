{
 "cells": [
  {
   "cell_type": "markdown",
   "metadata": {},
   "source": [
    "### pytorch의 hook을 사용하면 network 중간 layer의 통과 결과를 얻을 수 있다"
   ]
  },
  {
   "cell_type": "code",
   "execution_count": 22,
   "metadata": {},
   "outputs": [],
   "source": [
    "import torch\n",
    "import torch.nn as nn\n",
    "import torchsummary"
   ]
  },
  {
   "cell_type": "code",
   "execution_count": 48,
   "metadata": {},
   "outputs": [],
   "source": [
    "class Savelayer5:\n",
    "    def __init__(self):\n",
    "        self.outputs = []\n",
    "        \n",
    "    def __call__(self, module, module_in, module_out):\n",
    "        self.outputs.append(module_out)\n",
    "        \n",
    "    def clear(self):\n",
    "        self.outputs = []\n",
    "        \n",
    "class Model(nn.Module):\n",
    "    def __init__(self):\n",
    "        super().__init__()\n",
    "        \n",
    "        self.dim = torch.arange(100,9,-10)\n",
    "        layers= []\n",
    "        for in_,out_ in zip(self.dim[:-1],self.dim[1:]):\n",
    "            layers.append(nn.Linear(in_,out_))\n",
    "        \n",
    "        self.fc_ = nn.Sequential(*layers)\n",
    "        \n",
    "        self.hook = Savelayer5()\n",
    "        self.hook_handles=[]\n",
    "        handle = self.fc_[4].register_forward_hook(self.hook)\n",
    "        self.hook_handles.append(handle)\n",
    "        \n",
    "        \n",
    "    def forward(self,x):\n",
    "        \n",
    "        return self.fc_(x)"
   ]
  },
  {
   "cell_type": "code",
   "execution_count": 49,
   "metadata": {},
   "outputs": [],
   "source": [
    "model =Model()"
   ]
  },
  {
   "cell_type": "code",
   "execution_count": 50,
   "metadata": {},
   "outputs": [
    {
     "name": "stdout",
     "output_type": "stream",
     "text": [
      "----------------------------------------------------------------\n",
      "        Layer (type)               Output Shape         Param #\n",
      "================================================================\n",
      "            Linear-1                [-1, 1, 90]           9,090\n",
      "            Linear-2                [-1, 1, 80]           7,280\n",
      "            Linear-3                [-1, 1, 70]           5,670\n",
      "            Linear-4                [-1, 1, 60]           4,260\n",
      "            Linear-5                [-1, 1, 50]           3,050\n",
      "            Linear-6                [-1, 1, 40]           2,040\n",
      "            Linear-7                [-1, 1, 30]           1,230\n",
      "            Linear-8                [-1, 1, 20]             620\n",
      "            Linear-9                [-1, 1, 10]             210\n",
      "================================================================\n",
      "Total params: 33,450\n",
      "Trainable params: 33,450\n",
      "Non-trainable params: 0\n",
      "----------------------------------------------------------------\n",
      "Input size (MB): 0.00\n",
      "Forward/backward pass size (MB): 0.00\n",
      "Params size (MB): 0.13\n",
      "Estimated Total Size (MB): 0.13\n",
      "----------------------------------------------------------------\n"
     ]
    }
   ],
   "source": [
    "torchsummary.summary(model=model,\n",
    "                     input_size=(1,100),\n",
    "                     device='cpu')"
   ]
  },
  {
   "cell_type": "code",
   "execution_count": 55,
   "metadata": {},
   "outputs": [],
   "source": [
    "test_sample_in = torch.randn(1,100)\n",
    "test_sample_out = model(test_sample_in)"
   ]
  },
  {
   "cell_type": "code",
   "execution_count": 56,
   "metadata": {},
   "outputs": [
    {
     "name": "stdout",
     "output_type": "stream",
     "text": [
      "Input size torch.Size([1, 100])\n",
      "Output size torch.Size([1, 10])\n",
      "layer 5 size torch.Size([1, 50])\n"
     ]
    }
   ],
   "source": [
    "print(\"Input size\", test_sample_in.shape)\n",
    "print(\"Output size\", test_sample_out.shape)\n",
    "\n",
    "print(\"layer 5 size\", model.hook.outputs[0].shape)"
   ]
  }
 ],
 "metadata": {
  "kernelspec": {
   "display_name": "Python 3",
   "language": "python",
   "name": "python3"
  },
  "language_info": {
   "codemirror_mode": {
    "name": "ipython",
    "version": 3
   },
   "file_extension": ".py",
   "mimetype": "text/x-python",
   "name": "python",
   "nbconvert_exporter": "python",
   "pygments_lexer": "ipython3",
   "version": "3.6.9"
  }
 },
 "nbformat": 4,
 "nbformat_minor": 4
}
